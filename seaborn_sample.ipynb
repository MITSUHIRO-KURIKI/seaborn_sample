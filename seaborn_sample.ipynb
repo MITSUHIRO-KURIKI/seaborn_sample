{
  "nbformat": 4,
  "nbformat_minor": 0,
  "metadata": {
    "colab": {
      "private_outputs": true,
      "provenance": [],
      "collapsed_sections": [
        "GE50LRMiaZP1",
        "jmKRdtXAbBD6",
        "fWUqG3tvcDNG",
        "NNbjByZ5cIW5",
        "AZl5Yg5CcQjH",
        "o1bRdUR3cnps",
        "A3o2-CCjc0qT",
        "nRT5Ex23m-l8"
      ]
    },
    "kernelspec": {
      "name": "python3",
      "display_name": "Python 3"
    },
    "language_info": {
      "name": "python"
    }
  },
  "cells": [
    {
      "cell_type": "code",
      "execution_count": null,
      "metadata": {
        "id": "f8KVegpZaNIA"
      },
      "outputs": [],
      "source": [
        "import seaborn as sns\n",
        "import numpy as np\n",
        "import pandas as pd\n",
        "import matplotlib.pyplot as plt"
      ]
    },
    {
      "cell_type": "code",
      "source": [
        "iris = sns.load_dataset(\"iris\")\n",
        "titanic = sns.load_dataset(\"titanic\")"
      ],
      "metadata": {
        "id": "zwkmvJCbaOZe"
      },
      "execution_count": null,
      "outputs": []
    },
    {
      "cell_type": "code",
      "source": [
        "iris.head(3)"
      ],
      "metadata": {
        "id": "NV9brieCaOVI"
      },
      "execution_count": null,
      "outputs": []
    },
    {
      "cell_type": "code",
      "source": [
        "titanic.head(3)"
      ],
      "metadata": {
        "id": "nUbGIzPhb4nD"
      },
      "execution_count": null,
      "outputs": []
    },
    {
      "cell_type": "markdown",
      "source": [
        "##### 散布図行列"
      ],
      "metadata": {
        "id": "GE50LRMiaZP1"
      }
    },
    {
      "cell_type": "code",
      "source": [
        "sns.pairplot(iris)"
      ],
      "metadata": {
        "id": "VFDShZRcaOSX"
      },
      "execution_count": null,
      "outputs": []
    },
    {
      "cell_type": "code",
      "source": [
        "sns.pairplot(iris, hue=\"species\")"
      ],
      "metadata": {
        "id": "ucXAjb13aeoS"
      },
      "execution_count": null,
      "outputs": []
    },
    {
      "cell_type": "code",
      "source": [
        "sns.pairplot(iris, hue=\"species\", kind='reg')"
      ],
      "metadata": {
        "id": "eWGttPYSnQFG"
      },
      "execution_count": null,
      "outputs": []
    },
    {
      "cell_type": "markdown",
      "source": [
        "##### 散布図"
      ],
      "metadata": {
        "id": "jmKRdtXAbBD6"
      }
    },
    {
      "cell_type": "code",
      "source": [
        "sns.jointplot(data=iris, x='sepal_width', y='petal_length')"
      ],
      "metadata": {
        "id": "IB3hW5jPaxuK"
      },
      "execution_count": null,
      "outputs": []
    },
    {
      "cell_type": "code",
      "source": [
        "sns.jointplot(data=iris, x='sepal_width', y='petal_length', hue=\"species\")"
      ],
      "metadata": {
        "id": "ACzcrRsxaej7"
      },
      "execution_count": null,
      "outputs": []
    },
    {
      "cell_type": "code",
      "source": [
        "# 回帰直線\n",
        "sns.jointplot(data=iris, x='sepal_width', y='petal_length', kind='reg')"
      ],
      "metadata": {
        "id": "ElCwJXwnaeh_"
      },
      "execution_count": null,
      "outputs": []
    },
    {
      "cell_type": "code",
      "source": [
        "# 残差誤差\n",
        "sns.jointplot(data=iris, x='sepal_width', y='petal_length', kind='resid')"
      ],
      "metadata": {
        "id": "9OLFZcERaebB"
      },
      "execution_count": null,
      "outputs": []
    },
    {
      "cell_type": "code",
      "source": [
        "# カーネル密度推定\n",
        "sns.jointplot(data=iris, x='sepal_width', y='petal_length', kind='kde')"
      ],
      "metadata": {
        "id": "HtMajGaPaeYr"
      },
      "execution_count": null,
      "outputs": []
    },
    {
      "cell_type": "code",
      "source": [
        "# ヒートマップ\n",
        "sns.jointplot(data=iris, x='sepal_width', y='petal_length', kind='hex')"
      ],
      "metadata": {
        "id": "b5uleLqFbb2S"
      },
      "execution_count": null,
      "outputs": []
    },
    {
      "cell_type": "code",
      "source": [],
      "metadata": {
        "id": "5zE8tUn4bbyn"
      },
      "execution_count": null,
      "outputs": []
    },
    {
      "cell_type": "markdown",
      "source": [
        "##### countplot"
      ],
      "metadata": {
        "id": "fWUqG3tvcDNG"
      }
    },
    {
      "cell_type": "code",
      "source": [
        "sns.countplot(data=titanic, x=\"class\")"
      ],
      "metadata": {
        "id": "tqy9MHZFbbwc"
      },
      "execution_count": null,
      "outputs": []
    },
    {
      "cell_type": "markdown",
      "source": [
        "##### boxplot"
      ],
      "metadata": {
        "id": "NNbjByZ5cIW5"
      }
    },
    {
      "cell_type": "code",
      "source": [
        "sns.boxplot(data=titanic, x=\"survived\", y=\"age\")"
      ],
      "metadata": {
        "id": "A4jfHvLcaeWW"
      },
      "execution_count": null,
      "outputs": []
    },
    {
      "cell_type": "markdown",
      "source": [
        "##### violinplot"
      ],
      "metadata": {
        "id": "AZl5Yg5CcQjH"
      }
    },
    {
      "cell_type": "code",
      "source": [
        "sns.violinplot(data=titanic, x=\"survived\", y=\"age\")"
      ],
      "metadata": {
        "id": "ks0NCAcraePz"
      },
      "execution_count": null,
      "outputs": []
    },
    {
      "cell_type": "markdown",
      "source": [
        "##### 棒グラフ"
      ],
      "metadata": {
        "id": "o1bRdUR3cnps"
      }
    },
    {
      "cell_type": "code",
      "source": [
        "# 95%の信頼区間\n",
        "sns.barplot(data=titanic, x=\"sex\", y=\"survived\", hue=\"class\")"
      ],
      "metadata": {
        "id": "H2o0fsdVaeNq"
      },
      "execution_count": null,
      "outputs": []
    },
    {
      "cell_type": "markdown",
      "source": [
        "##### ヒストグラム"
      ],
      "metadata": {
        "id": "A3o2-CCjc0qT"
      }
    },
    {
      "cell_type": "code",
      "source": [
        "sns.histplot(data=iris, x='sepal_length', bins=10, kde=False)"
      ],
      "metadata": {
        "id": "yvIROwZac0im"
      },
      "execution_count": null,
      "outputs": []
    },
    {
      "cell_type": "code",
      "source": [
        "sns.histplot(data=iris, x='sepal_length', hue='species', bins=10, kde=False)"
      ],
      "metadata": {
        "id": "fWYQ4ciOe6Q8"
      },
      "execution_count": null,
      "outputs": []
    },
    {
      "cell_type": "code",
      "source": [
        "sns.histplot(data=iris, x='sepal_length', hue='species', bins=10, alpha=0, kde=True)"
      ],
      "metadata": {
        "id": "rIA0Mh1bc0bp"
      },
      "execution_count": null,
      "outputs": []
    },
    {
      "cell_type": "markdown",
      "source": [
        "##### 相関図"
      ],
      "metadata": {
        "id": "nRT5Ex23m-l8"
      }
    },
    {
      "cell_type": "code",
      "source": [
        "corr = iris[['sepal_length', 'sepal_width', 'petal_length']].corr(method='pearson')\n",
        "sns.heatmap(corr, vmax=1, vmin=-1, center=0, annot=True, annot_kws={'size': 8}, cmap='Blues')"
      ],
      "metadata": {
        "id": "xxtydEhic0XR"
      },
      "execution_count": null,
      "outputs": []
    },
    {
      "cell_type": "code",
      "source": [],
      "metadata": {
        "id": "CFt82qO_c0TK"
      },
      "execution_count": null,
      "outputs": []
    },
    {
      "cell_type": "markdown",
      "source": [
        "##### 複数グラフ"
      ],
      "metadata": {
        "id": "otB5lKAJrn2L"
      }
    },
    {
      "cell_type": "code",
      "source": [
        "fig, axes = plt.subplots(2, 3, figsize=(20, 10), tight_layout=True, facecolor=\"w\")\n",
        "axes = axes.ravel()\n",
        "\n",
        "cols = ['sepal_length', 'sepal_width', 'petal_length', 'petal_width']\n",
        "\n",
        "for i, (col, ax) in enumerate(zip(cols, axes)):\n",
        "  if i == 2:\n",
        "    grid = sns.histplot(data=iris, x=col, hue='species', legend=True, kde=True, ax=ax)\n",
        "    sns.move_legend(grid, \"lower center\",\n",
        "                    bbox_to_anchor=(.5, 1), ncol=3, title=None, frameon=False)\n",
        "  else:\n",
        "    grid = sns.histplot(data=iris, x=col, hue='species', legend=False, kde=True, ax=ax)\n",
        "\n",
        "  if i == 1:\n",
        "    grid.set_title(\"SUB TITLE\")\n",
        "\n",
        "  if i in [0,3]:\n",
        "    grid.set(xlabel=\"X-Axis\", ylabel=\"Y-Axis\")\n",
        "  else:\n",
        "    grid.set(xlabel=\"\", ylabel=\"\")\n",
        "\n",
        "fig.suptitle(\"MAIN TITLE\", size=18, weight=2, x=.5, y=1)\n",
        "\n",
        "sns.set(font_scale=1)\n",
        "plt.subplots_adjust(wspace=0.2, hspace=0.2)\n",
        "fig.savefig('img.png')"
      ],
      "metadata": {
        "id": "Lv8H7oZ7rRhj"
      },
      "execution_count": null,
      "outputs": []
    },
    {
      "cell_type": "code",
      "source": [],
      "metadata": {
        "id": "HNfvBbQJrRb5"
      },
      "execution_count": null,
      "outputs": []
    },
    {
      "cell_type": "code",
      "source": [],
      "metadata": {
        "id": "1VCpeuS0rRY-"
      },
      "execution_count": null,
      "outputs": []
    },
    {
      "cell_type": "code",
      "source": [],
      "metadata": {
        "id": "ehe3OjLmrRW7"
      },
      "execution_count": null,
      "outputs": []
    },
    {
      "cell_type": "markdown",
      "source": [
        "##### cmap"
      ],
      "metadata": {
        "id": "70lFYm6ro0GX"
      }
    },
    {
      "cell_type": "code",
      "source": [
        "xs = np.arange(1, 10)\n",
        "ys = np.arange(1, 10).reshape(9, 1)\n",
        "m = xs * ys\n",
        "df = pd.DataFrame(m)"
      ],
      "metadata": {
        "id": "cbn1gpugc0Qv"
      },
      "execution_count": null,
      "outputs": []
    },
    {
      "cell_type": "code",
      "source": [
        "sns.heatmap(df, cmap='Blues')"
      ],
      "metadata": {
        "id": "0jkEPPaFaeK3"
      },
      "execution_count": null,
      "outputs": []
    },
    {
      "cell_type": "code",
      "source": [
        "sns.heatmap(df, cmap='Blues_r')"
      ],
      "metadata": {
        "id": "6SuHCzTMqgIa"
      },
      "execution_count": null,
      "outputs": []
    },
    {
      "cell_type": "code",
      "source": [
        "sns.heatmap(df, cmap='PuBu')"
      ],
      "metadata": {
        "id": "Te5osnxXpUqS"
      },
      "execution_count": null,
      "outputs": []
    },
    {
      "cell_type": "code",
      "source": [
        "sns.heatmap(df, cmap='BuGn')"
      ],
      "metadata": {
        "id": "91q-1AHCaeHd"
      },
      "execution_count": null,
      "outputs": []
    },
    {
      "cell_type": "code",
      "source": [
        "sns.heatmap(df, cmap='BuGn_r')"
      ],
      "metadata": {
        "id": "HbJ-LBa3qjNe"
      },
      "execution_count": null,
      "outputs": []
    },
    {
      "cell_type": "code",
      "source": [
        "sns.heatmap(df, cmap='Greens')"
      ],
      "metadata": {
        "id": "fXGX4BYIpJfk"
      },
      "execution_count": null,
      "outputs": []
    },
    {
      "cell_type": "code",
      "source": [
        "sns.heatmap(df, cmap='Greens_r')"
      ],
      "metadata": {
        "id": "mgtsYh6Bqu7Q"
      },
      "execution_count": null,
      "outputs": []
    },
    {
      "cell_type": "code",
      "source": [
        "sns.heatmap(df, cmap='YlGn')"
      ],
      "metadata": {
        "id": "kOS0ia9Pptts"
      },
      "execution_count": null,
      "outputs": []
    },
    {
      "cell_type": "code",
      "source": [
        "sns.heatmap(df, cmap='YlGnBu')"
      ],
      "metadata": {
        "id": "gjJaCr8XpwsK"
      },
      "execution_count": null,
      "outputs": []
    },
    {
      "cell_type": "code",
      "source": [
        "sns.heatmap(df, cmap='GnBu')"
      ],
      "metadata": {
        "id": "NsMfPxszpBST"
      },
      "execution_count": null,
      "outputs": []
    },
    {
      "cell_type": "code",
      "source": [
        "sns.heatmap(df, cmap='GnBu_r')"
      ],
      "metadata": {
        "id": "5W4BXG5ZqrI4"
      },
      "execution_count": null,
      "outputs": []
    },
    {
      "cell_type": "code",
      "source": [
        "sns.heatmap(df, cmap='viridis')"
      ],
      "metadata": {
        "id": "CEUIHxLoq-yN"
      },
      "execution_count": null,
      "outputs": []
    },
    {
      "cell_type": "code",
      "source": [
        "sns.heatmap(df, cmap='viridis_r')"
      ],
      "metadata": {
        "id": "CDNy4yEbrAhE"
      },
      "execution_count": null,
      "outputs": []
    },
    {
      "cell_type": "code",
      "source": [
        "sns.heatmap(df, cmap='PuBuGn')"
      ],
      "metadata": {
        "id": "eYyMhuWkpXh-"
      },
      "execution_count": null,
      "outputs": []
    },
    {
      "cell_type": "code",
      "source": [
        "sns.heatmap(df, cmap='Reds')"
      ],
      "metadata": {
        "id": "zxITfb6hpmmb"
      },
      "execution_count": null,
      "outputs": []
    },
    {
      "cell_type": "code",
      "source": [
        "sns.heatmap(df, cmap='PuRd')"
      ],
      "metadata": {
        "id": "ynZItebGpauA"
      },
      "execution_count": null,
      "outputs": []
    },
    {
      "cell_type": "code",
      "source": [
        "sns.heatmap(df, cmap='coolwarm')"
      ],
      "metadata": {
        "id": "kwh2KWRRp2Dp"
      },
      "execution_count": null,
      "outputs": []
    },
    {
      "cell_type": "code",
      "source": [
        "sns.heatmap(df, cmap='RdBu')"
      ],
      "metadata": {
        "id": "daHJt9fTpgEY"
      },
      "execution_count": null,
      "outputs": []
    },
    {
      "cell_type": "code",
      "source": [
        "sns.heatmap(df, cmap='RdYlBu')"
      ],
      "metadata": {
        "id": "gCByWCWPpjjs"
      },
      "execution_count": null,
      "outputs": []
    },
    {
      "cell_type": "code",
      "source": [
        "sns.heatmap(df, cmap='Spectral')"
      ],
      "metadata": {
        "id": "bGHVN_PKppjO"
      },
      "execution_count": null,
      "outputs": []
    },
    {
      "cell_type": "code",
      "source": [
        "sns.heatmap(df, cmap='BuPu')"
      ],
      "metadata": {
        "id": "xm4KvtfNpBYI"
      },
      "execution_count": null,
      "outputs": []
    },
    {
      "cell_type": "code",
      "source": [
        "sns.heatmap(df, cmap='Purples')"
      ],
      "metadata": {
        "id": "FwJTj-I1pc28"
      },
      "execution_count": null,
      "outputs": []
    },
    {
      "cell_type": "code",
      "source": [
        "sns.heatmap(df, cmap='Oranges')"
      ],
      "metadata": {
        "id": "HgTlatVbpRFC"
      },
      "execution_count": null,
      "outputs": []
    },
    {
      "cell_type": "code",
      "source": [
        "sns.heatmap(df, cmap='OrRd')"
      ],
      "metadata": {
        "id": "ESC5jvKApNsu"
      },
      "execution_count": null,
      "outputs": []
    },
    {
      "cell_type": "code",
      "source": [
        "sns.heatmap(df, cmap='hot')"
      ],
      "metadata": {
        "id": "hxLJOS8TqBgr"
      },
      "execution_count": null,
      "outputs": []
    },
    {
      "cell_type": "code",
      "source": [
        "sns.heatmap(df, cmap='gnuplot2')"
      ],
      "metadata": {
        "id": "5xoMFz79p-nL"
      },
      "execution_count": null,
      "outputs": []
    },
    {
      "cell_type": "code",
      "source": [
        "sns.heatmap(df, cmap='CMRmap')"
      ],
      "metadata": {
        "id": "7i75ZKY4pBVT"
      },
      "execution_count": null,
      "outputs": []
    },
    {
      "cell_type": "code",
      "source": [
        "sns.heatmap(df, cmap='rainbow')"
      ],
      "metadata": {
        "id": "NaycNO-lqJjN"
      },
      "execution_count": null,
      "outputs": []
    },
    {
      "cell_type": "code",
      "source": [
        "sns.heatmap(df, cmap='jet')"
      ],
      "metadata": {
        "id": "02xfc0ytqE1u"
      },
      "execution_count": null,
      "outputs": []
    },
    {
      "cell_type": "code",
      "source": [
        "sns.heatmap(df, cmap='seismic')"
      ],
      "metadata": {
        "id": "idhdUHvHqLtR"
      },
      "execution_count": null,
      "outputs": []
    },
    {
      "cell_type": "code",
      "source": [
        "sns.heatmap(df, cmap='Pastel1')"
      ],
      "metadata": {
        "id": "k8OEE839qXYP"
      },
      "execution_count": null,
      "outputs": []
    },
    {
      "cell_type": "code",
      "source": [
        "sns.heatmap(df, cmap='Pastel2')"
      ],
      "metadata": {
        "id": "_garyM84qZMy"
      },
      "execution_count": null,
      "outputs": []
    },
    {
      "cell_type": "code",
      "source": [
        "sns.heatmap(df, cmap='spring')"
      ],
      "metadata": {
        "id": "wy4YMmwppBQQ"
      },
      "execution_count": null,
      "outputs": []
    },
    {
      "cell_type": "code",
      "source": [
        "sns.heatmap(df, cmap='summer')"
      ],
      "metadata": {
        "id": "BLjCCAXgpBKt"
      },
      "execution_count": null,
      "outputs": []
    },
    {
      "cell_type": "code",
      "source": [
        "sns.heatmap(df, cmap='winter')"
      ],
      "metadata": {
        "id": "EIrYE4C6pBIE"
      },
      "execution_count": null,
      "outputs": []
    },
    {
      "cell_type": "code",
      "source": [],
      "metadata": {
        "id": "01hXwww3pBDm"
      },
      "execution_count": null,
      "outputs": []
    },
    {
      "cell_type": "code",
      "source": [],
      "metadata": {
        "id": "CEabrOCxpBAz"
      },
      "execution_count": null,
      "outputs": []
    },
    {
      "cell_type": "code",
      "source": [],
      "metadata": {
        "id": "P8CraAVFpA-w"
      },
      "execution_count": null,
      "outputs": []
    },
    {
      "cell_type": "code",
      "source": [],
      "metadata": {
        "id": "0G50_cpwaeEH"
      },
      "execution_count": null,
      "outputs": []
    }
  ]
}